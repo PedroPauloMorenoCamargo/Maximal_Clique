{
 "cells": [
  {
   "cell_type": "markdown",
   "metadata": {},
   "source": [
    "# Maximal Clique Problem"
   ]
  },
  {
   "cell_type": "markdown",
   "metadata": {},
   "source": []
  },
  {
   "cell_type": "markdown",
   "metadata": {},
   "source": [
    "## Graph Generation"
   ]
  },
  {
   "cell_type": "markdown",
   "metadata": {},
   "source": [
    "It was provided the functions below for graph generation and the solution to solve the Maximal Clique Problem:"
   ]
  },
  {
   "cell_type": "code",
   "execution_count": 60,
   "metadata": {},
   "outputs": [],
   "source": [
    "import networkx as nx\n",
    "import random\n",
    "\n",
    "def create_graph(num_vertices, probabilidade_conexao, nome_arquivo):\n",
    "\n",
    "    # Crie um grafo aleatório densamente conectado\n",
    "    grafo = nx.fast_gnp_random_graph(num_vertices, probabilidade_conexao)\n",
    "\n",
    "    # Abra o arquivo para escrita\n",
    "    with open(nome_arquivo, 'w') as arquivo:\n",
    "        # Escreva a quantidade de vértices e número de arestas na primeira linha\n",
    "        arquivo.write(f\"{num_vertices} {grafo.number_of_edges()}\\n\")\n",
    "\n",
    "        # Escreva as arestas no formato de lista de adjacência\n",
    "        for aresta in grafo.edges():\n",
    "            arquivo.write(f\"{aresta[0]+1} {aresta[1]+1}\\n\")  # +1 para ajustar os índices (começando em 1)\n",
    "\n",
    "    print(f\"Grafo densamente conectado gerado e salvo em '{nome_arquivo}'.\")"
   ]
  },
  {
   "cell_type": "code",
   "execution_count": 61,
   "metadata": {},
   "outputs": [],
   "source": [
    "def max_clique(nome_arquivo):\n",
    "    # Abrir o arquivo e pular a primeira linha\n",
    "    with open(nome_arquivo, 'r') as arquivo:\n",
    "        next(arquivo)  # Pula a primeira linha\n",
    "\n",
    "        # Lê o grafo a partir das linhas restantes\n",
    "        G = nx.parse_adjlist(arquivo)\n",
    "\n",
    "    # Encontrar todas as cliques maximais\n",
    "    cliques_maximais = list(nx.find_cliques(G))\n",
    "\n",
    "    # Determinar o tamanho da maior clique\n",
    "    tamanho_maximo = max(len(clique) for clique in cliques_maximais)\n",
    "\n",
    "    # Encontrar uma clique que tem o tamanho máximo\n",
    "    clique_maxima = next(clique for clique in cliques_maximais if len(clique) == tamanho_maximo)\n",
    "\n",
    "    # Imprimir apenas o tamanho e uma clique exemplo\n",
    "    print(\"Tamanho da maior clique:\", tamanho_maximo)\n",
    "    print(\"Exemplo de clique máxima:\", clique_maxima)\n",
    "\n"
   ]
  },
  {
   "cell_type": "code",
   "execution_count": 62,
   "metadata": {},
   "outputs": [
    {
     "name": "stdout",
     "output_type": "stream",
     "text": [
      "Grafo densamente conectado gerado e salvo em 'grafos/grafo_5_vertices.txt'.\n",
      "Grafo densamente conectado gerado e salvo em 'grafos/grafo_25_vertices.txt'.\n",
      "Grafo densamente conectado gerado e salvo em 'grafos/grafo_50_vertices.txt'.\n",
      "Grafo densamente conectado gerado e salvo em 'grafos/grafo_125_vertices.txt'.\n",
      "Grafo densamente conectado gerado e salvo em 'grafos/grafo_100_vertices.txt'.\n",
      "Grafo densamente conectado gerado e salvo em 'grafos/grafo_150_vertices.txt'.\n",
      "Grafo densamente conectado gerado e salvo em 'grafos/grafo_200_vertices.txt'.\n",
      "Grafo densamente conectado gerado e salvo em 'grafos/grafo_250_vertices.txt'.\n"
     ]
    }
   ],
   "source": [
    "lista_vertices = [5,25,50,125,100,150,200,250]\n",
    "\n",
    "for i in lista_vertices:\n",
    "    create_graph(i, 0.7, f\"grafos/grafo_{i}_vertices.txt\")"
   ]
  },
  {
   "cell_type": "markdown",
   "metadata": {},
   "source": [
    "## Algorithm Overview"
   ]
  },
  {
   "cell_type": "markdown",
   "metadata": {},
   "source": [
    "## Validation"
   ]
  },
  {
   "cell_type": "markdown",
   "metadata": {},
   "source": [
    "### Resultado Python"
   ]
  },
  {
   "cell_type": "code",
   "execution_count": 64,
   "metadata": {},
   "outputs": [
    {
     "name": "stdout",
     "output_type": "stream",
     "text": [
      "Arquivo com 5 vertices:\n",
      "Tamanho da maior clique: 4\n",
      "Exemplo de clique máxima: ['4', '2', '3', '5']\n",
      "Arquivo com 25 vertices:\n",
      "Tamanho da maior clique: 9\n",
      "Exemplo de clique máxima: ['12', '5', '8', '21', '11', '19', '10', '3', '24']\n",
      "Arquivo com 50 vertices:\n",
      "Tamanho da maior clique: 11\n",
      "Exemplo de clique máxima: ['40', '19', '4', '18', '5', '49', '21', '37', '29', '41', '23']\n",
      "Arquivo com 125 vertices:\n",
      "Tamanho da maior clique: 16\n",
      "Exemplo de clique máxima: ['94', '98', '78', '39', '19', '61', '63', '106', '119', '25', '64', '69', '122', '17', '86', '46']\n",
      "Arquivo com 100 vertices:\n",
      "Tamanho da maior clique: 16\n",
      "Exemplo de clique máxima: ['70', '85', '21', '28', '32', '68', '30', '27', '98', '20', '43', '8', '99', '47', '24', '49']\n",
      "Arquivo com 150 vertices:\n",
      "Tamanho da maior clique: 17\n",
      "Exemplo de clique máxima: ['113', '30', '148', '136', '67', '10', '11', '119', '8', '6', '149', '137', '72', '28', '108', '9', '83']\n"
     ]
    }
   ],
   "source": [
    "for i in range(0,len(lista_vertices)-2):\n",
    "    print(\"Arquivo com\", lista_vertices[i], \"vertices:\")\n",
    "    max_clique(f\"grafos/grafo_{lista_vertices[i]}_vertices.txt\")"
   ]
  },
  {
   "cell_type": "markdown",
   "metadata": {},
   "source": [
    "## Results"
   ]
  },
  {
   "cell_type": "markdown",
   "metadata": {},
   "source": [
    "## Conclusion"
   ]
  }
 ],
 "metadata": {
  "kernelspec": {
   "display_name": "Python 3",
   "language": "python",
   "name": "python3"
  },
  "language_info": {
   "codemirror_mode": {
    "name": "ipython",
    "version": 3
   },
   "file_extension": ".py",
   "mimetype": "text/x-python",
   "name": "python",
   "nbconvert_exporter": "python",
   "pygments_lexer": "ipython3",
   "version": "3.13.0"
  }
 },
 "nbformat": 4,
 "nbformat_minor": 2
}
