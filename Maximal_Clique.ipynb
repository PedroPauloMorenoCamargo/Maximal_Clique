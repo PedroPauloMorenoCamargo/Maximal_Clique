{
 "cells": [
  {
   "cell_type": "markdown",
   "metadata": {},
   "source": [
    "# Maximal Clique Problem"
   ]
  },
  {
   "cell_type": "markdown",
   "metadata": {},
   "source": []
  },
  {
   "cell_type": "markdown",
   "metadata": {},
   "source": [
    "## Graph Generation"
   ]
  },
  {
   "cell_type": "markdown",
   "metadata": {},
   "source": [
    "It was provided the functions below for graph generation and the solution to solve the Maximal Clique Problem:"
   ]
  },
  {
   "cell_type": "code",
   "execution_count": 49,
   "metadata": {},
   "outputs": [],
   "source": [
    "import networkx as nx\n",
    "import random\n",
    "\n",
    "def create_graph(num_vertices, probabilidade_conexao, nome_arquivo):\n",
    "\n",
    "    # Crie um grafo aleatório densamente conectado\n",
    "    grafo = nx.fast_gnp_random_graph(num_vertices, probabilidade_conexao)\n",
    "\n",
    "    # Abra o arquivo para escrita\n",
    "    with open(nome_arquivo, 'w') as arquivo:\n",
    "        # Escreva a quantidade de vértices e número de arestas na primeira linha\n",
    "        arquivo.write(f\"{num_vertices} {grafo.number_of_edges()}\\n\")\n",
    "\n",
    "        # Escreva as arestas no formato de lista de adjacência\n",
    "        for aresta in grafo.edges():\n",
    "            arquivo.write(f\"{aresta[0]+1} {aresta[1]+1}\\n\")  # +1 para ajustar os índices (começando em 1)\n",
    "\n",
    "    print(f\"Grafo densamente conectado gerado e salvo em '{nome_arquivo}'.\")"
   ]
  },
  {
   "cell_type": "code",
   "execution_count": 50,
   "metadata": {},
   "outputs": [],
   "source": [
    "def max_clique(nome_arquivo):\n",
    "    # Abrir o arquivo e pular a primeira linha\n",
    "    with open(nome_arquivo, 'r') as arquivo:\n",
    "        next(arquivo)  # Pula a primeira linha\n",
    "\n",
    "        # Lê o grafo a partir das linhas restantes\n",
    "        G = nx.parse_adjlist(arquivo)\n",
    "\n",
    "    # Encontrar todas as cliques maximais\n",
    "    cliques_maximais = list(nx.find_cliques(G))\n",
    "\n",
    "    # Determinar o tamanho da maior clique\n",
    "    tamanho_maximo = max(len(clique) for clique in cliques_maximais)\n",
    "\n",
    "    # Encontrar uma clique que tem o tamanho máximo\n",
    "    clique_maxima = next(clique for clique in cliques_maximais if len(clique) == tamanho_maximo)\n",
    "\n",
    "    # Imprimir apenas o tamanho e uma clique exemplo\n",
    "    print(\"Tamanho da maior clique:\", tamanho_maximo)\n",
    "    print(\"Exemplo de clique máxima:\", clique_maxima)\n",
    "\n"
   ]
  },
  {
   "cell_type": "code",
   "execution_count": 56,
   "metadata": {},
   "outputs": [
    {
     "name": "stdout",
     "output_type": "stream",
     "text": [
      "Grafo densamente conectado gerado e salvo em 'grafos/grafo_5_vertices.txt'.\n",
      "Grafo densamente conectado gerado e salvo em 'grafos/grafo_25_vertices.txt'.\n",
      "Grafo densamente conectado gerado e salvo em 'grafos/grafo_50_vertices.txt'.\n",
      "Grafo densamente conectado gerado e salvo em 'grafos/grafo_125_vertices.txt'.\n",
      "Grafo densamente conectado gerado e salvo em 'grafos/grafo_100_vertices.txt'.\n",
      "Grafo densamente conectado gerado e salvo em 'grafos/grafo_150_vertices.txt'.\n"
     ]
    }
   ],
   "source": [
    "lista_vertices = [5,25,50,125,100,150]\n",
    "\n",
    "for i in lista_vertices:\n",
    "    create_graph(i, 0.7, f\"grafos/grafo_{i}_vertices.txt\")"
   ]
  },
  {
   "cell_type": "markdown",
   "metadata": {},
   "source": [
    "## Algorithm Overview"
   ]
  },
  {
   "cell_type": "markdown",
   "metadata": {},
   "source": [
    "## Validation"
   ]
  },
  {
   "cell_type": "markdown",
   "metadata": {},
   "source": [
    "### Resultado Python"
   ]
  },
  {
   "cell_type": "code",
   "execution_count": 57,
   "metadata": {},
   "outputs": [
    {
     "name": "stdout",
     "output_type": "stream",
     "text": [
      "Arquivo com 5 vertices:\n",
      "Tamanho da maior clique: 4\n",
      "Exemplo de clique máxima: ['4', '5', '3', '2']\n",
      "Arquivo com 25 vertices:\n",
      "Tamanho da maior clique: 8\n",
      "Exemplo de clique máxima: ['23', '8', '21', '16', '10', '19', '7', '2']\n",
      "Arquivo com 50 vertices:\n",
      "Tamanho da maior clique: 10\n",
      "Exemplo de clique máxima: ['6', '27', '5', '23', '8', '35', '18', '33', '31', '3']\n",
      "Arquivo com 125 vertices:\n",
      "Tamanho da maior clique: 16\n",
      "Exemplo de clique máxima: ['8', '89', '19', '76', '115', '9', '29', '92', '38', '119', '64', '70', '108', '17', '100', '103']\n",
      "Arquivo com 100 vertices:\n",
      "Tamanho da maior clique: 14\n",
      "Exemplo de clique máxima: ['36', '55', '40', '4', '28', '68', '38', '67', '57', '73', '5', '95', '29', '59']\n",
      "Arquivo com 150 vertices:\n",
      "Tamanho da maior clique: 16\n",
      "Exemplo de clique máxima: ['70', '20', '35', '57', '136', '117', '74', '13', '45', '47', '95', '90', '149', '26', '46', '42']\n"
     ]
    }
   ],
   "source": [
    "for i in lista_vertices:\n",
    "    print(\"Arquivo com\", i, \"vertices:\")\n",
    "    max_clique(f\"grafos/grafo_{i}_vertices.txt\")"
   ]
  },
  {
   "cell_type": "markdown",
   "metadata": {},
   "source": [
    "## Results"
   ]
  },
  {
   "cell_type": "markdown",
   "metadata": {},
   "source": [
    "## Conclusion"
   ]
  }
 ],
 "metadata": {
  "kernelspec": {
   "display_name": "Python 3",
   "language": "python",
   "name": "python3"
  },
  "language_info": {
   "codemirror_mode": {
    "name": "ipython",
    "version": 3
   },
   "file_extension": ".py",
   "mimetype": "text/x-python",
   "name": "python",
   "nbconvert_exporter": "python",
   "pygments_lexer": "ipython3",
   "version": "3.13.0"
  }
 },
 "nbformat": 4,
 "nbformat_minor": 2
}
