{
 "cells": [
  {
   "cell_type": "markdown",
   "metadata": {},
   "source": [
    "# Maximal Clique Problem"
   ]
  },
  {
   "cell_type": "markdown",
   "metadata": {},
   "source": []
  },
  {
   "cell_type": "markdown",
   "metadata": {},
   "source": [
    "## Graph Generation"
   ]
  },
  {
   "cell_type": "markdown",
   "metadata": {},
   "source": [
    "It was provided the functions below for graph generation and the solution to solve the Maximal Clique Problem:"
   ]
  },
  {
   "cell_type": "code",
   "execution_count": 1,
   "metadata": {},
   "outputs": [],
   "source": [
    "import networkx as nx\n",
    "import random\n",
    "\n",
    "def create_graph(num_vertices, probabilidade_conexao, nome_arquivo):\n",
    "\n",
    "    # Crie um grafo aleatório densamente conectado\n",
    "    grafo = nx.fast_gnp_random_graph(num_vertices, probabilidade_conexao)\n",
    "\n",
    "    # Abra o arquivo para escrita\n",
    "    with open(nome_arquivo, 'w') as arquivo:\n",
    "        # Escreva a quantidade de vértices e número de arestas na primeira linha\n",
    "        arquivo.write(f\"{num_vertices} {grafo.number_of_edges()}\\n\")\n",
    "\n",
    "        # Escreva as arestas no formato de lista de adjacência\n",
    "        for aresta in grafo.edges():\n",
    "            arquivo.write(f\"{aresta[0]+1} {aresta[1]+1}\\n\")  # +1 para ajustar os índices (começando em 1)\n",
    "\n",
    "    print(f\"Grafo densamente conectado gerado e salvo em '{nome_arquivo}'.\")"
   ]
  },
  {
   "cell_type": "code",
   "execution_count": 15,
   "metadata": {},
   "outputs": [],
   "source": [
    "def max_clique(nome_arquivo,grafo):\n",
    "    # Abrir o arquivo e pular a primeira linha\n",
    "    with open(nome_arquivo, 'r') as arquivo:\n",
    "        next(arquivo)  # Pula a primeira linha\n",
    "\n",
    "        # Lê o grafo a partir das linhas restantes\n",
    "        G = nx.parse_adjlist(arquivo)\n",
    "\n",
    "    # Encontrar todas as cliques maximais\n",
    "    cliques_maximais = list(nx.find_cliques(G))\n",
    "\n",
    "    # Encontrar a clique máxima (a maior)\n",
    "    clique_maxima = max(cliques_maximais, key=len)\n",
    "\n",
    "    print(f\"Clique máxima encontrada grafo {grafo} vértices:\", clique_maxima)"
   ]
  },
  {
   "cell_type": "code",
   "execution_count": 19,
   "metadata": {},
   "outputs": [
    {
     "name": "stdout",
     "output_type": "stream",
     "text": [
      "Grafo densamente conectado gerado e salvo em 'grafos/grafo_10_vertices.txt'.\n",
      "Grafo densamente conectado gerado e salvo em 'grafos/grafo_15_vertices.txt'.\n",
      "Grafo densamente conectado gerado e salvo em 'grafos/grafo_20_vertices.txt'.\n",
      "Grafo densamente conectado gerado e salvo em 'grafos/grafo_30_vertices.txt'.\n",
      "Grafo densamente conectado gerado e salvo em 'grafos/grafo_40_vertices.txt'.\n",
      "Grafo densamente conectado gerado e salvo em 'grafos/grafo_50_vertices.txt'.\n"
     ]
    }
   ],
   "source": [
    "lista_vertices = [10,15,20,30, 40, 50]\n",
    "\n",
    "for i in lista_vertices:\n",
    "    create_graph(i, 0.7, f\"grafos/grafo_{i}_vertices.txt\")"
   ]
  },
  {
   "cell_type": "markdown",
   "metadata": {},
   "source": [
    "## Algorithm Overview"
   ]
  },
  {
   "cell_type": "markdown",
   "metadata": {},
   "source": [
    "## Validation"
   ]
  },
  {
   "cell_type": "markdown",
   "metadata": {},
   "source": [
    "### Resultado Python"
   ]
  },
  {
   "cell_type": "code",
   "execution_count": 17,
   "metadata": {},
   "outputs": [
    {
     "name": "stdout",
     "output_type": "stream",
     "text": [
      "Clique máxima encontrada grafo 10 vértices: ['5', '8', '6', '4', '1']\n",
      "Clique máxima encontrada grafo 15 vértices: ['4', '5', '10', '3', '1']\n",
      "Clique máxima encontrada grafo 20 vértices: ['7', '20', '6', '8', '10', '18', '13']\n",
      "Clique máxima encontrada grafo 30 vértices: ['20', '4', '27', '6', '8', '11', '5', '9', '10']\n",
      "Clique máxima encontrada grafo 40 vértices: ['9', '14', '31', '39', '34', '16', '20', '37', '36', '28']\n",
      "Clique máxima encontrada grafo 50 vértices: ['50', '44', '21', '49', '2', '41', '28', '24', '33', '32', '14']\n"
     ]
    }
   ],
   "source": [
    "for i in lista_vertices:\n",
    "    max_clique(f\"grafos/grafo_{i}_vertices.txt\",i)"
   ]
  },
  {
   "cell_type": "markdown",
   "metadata": {},
   "source": [
    "## Results"
   ]
  },
  {
   "cell_type": "markdown",
   "metadata": {},
   "source": [
    "## Conclusion"
   ]
  }
 ],
 "metadata": {
  "kernelspec": {
   "display_name": "Python 3",
   "language": "python",
   "name": "python3"
  },
  "language_info": {
   "codemirror_mode": {
    "name": "ipython",
    "version": 3
   },
   "file_extension": ".py",
   "mimetype": "text/x-python",
   "name": "python",
   "nbconvert_exporter": "python",
   "pygments_lexer": "ipython3",
   "version": "3.13.0"
  }
 },
 "nbformat": 4,
 "nbformat_minor": 2
}
